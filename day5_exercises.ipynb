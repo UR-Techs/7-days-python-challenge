{
 "cells": [
  {
   "cell_type": "markdown",
   "id": "815745b7",
   "metadata": {},
   "source": [
    "# 📘  Day 5 – Python + DSA Exercises\n",
    "> ## Python\n",
    " \n",
    "### Exercise 1: List Comprehension with Condition:\n",
    "\n",
    "Input: [1, 2, 3, 4, 5, 6]\n",
    "\n",
    "Output: A list of squares of even numbers.\n",
    "\n",
    "\n"
   ]
  },
  {
   "cell_type": "code",
   "execution_count": null,
   "id": "77c3d93b",
   "metadata": {},
   "outputs": [],
   "source": [
    "list_value = [1,2,3,4,5,6]\n",
    "squared_list = [num * num for num in list_value if num%2 == 0]\n",
    "print(squared_list)"
   ]
  },
  {
   "cell_type": "markdown",
   "id": "67c37c3a",
   "metadata": {},
   "source": [
    "### Exercise 2: Sort Dictionary by Value:\n",
    "\n",
    "Input: {'apple': 5, 'banana': 2, 'cherry': 8}\n",
    "\n",
    "Output: Sorted dictionary by values in ascending order."
   ]
  },
  {
   "cell_type": "code",
   "execution_count": 1,
   "id": "21eb3bae",
   "metadata": {},
   "outputs": [
    {
     "name": "stdout",
     "output_type": "stream",
     "text": [
      "{'banana': 2, 'apple': 5, 'cherry': 8}\n"
     ]
    }
   ],
   "source": [
    "dictionary_input = {'apple':5, 'cherry':8, 'banana':2 }\n",
    "sorted_dict = dict(sorted(dictionary_input.items(), key=lambda item : item[1]))\n",
    "print(sorted_dict)"
   ]
  },
  {
   "cell_type": "markdown",
   "id": "980bd18b",
   "metadata": {},
   "source": [
    "### Exercise 3 : Remove duplicates from a list while preserving the original order.\n",
    "\n"
   ]
  },
  {
   "cell_type": "code",
   "execution_count": 8,
   "id": "ce20ec98",
   "metadata": {},
   "outputs": [
    {
     "name": "stdout",
     "output_type": "stream",
     "text": [
      "[1, 2, 3, 4, 5]\n"
     ]
    }
   ],
   "source": [
    "input_list = [1, 2, 2, 3, 4, 4, 5]\n",
    "finallist = []\n",
    "seen_set = set()\n",
    "\n",
    "for num in input_list:\n",
    "    if num in seen_set:\n",
    "        continue\n",
    "    else:\n",
    "        finallist.append(num)\n",
    "        seen_set.add(num)\n",
    "\n",
    "print(finallist)\n"
   ]
  },
  {
   "cell_type": "markdown",
   "id": "b1611dac",
   "metadata": {},
   "source": [
    "### Exercise 4: Merge two dictionaries. If the same key exists in both, sum their values.\n",
    "\n"
   ]
  },
  {
   "cell_type": "code",
   "execution_count": 19,
   "id": "1d455d36",
   "metadata": {},
   "outputs": [
    {
     "name": "stdout",
     "output_type": "stream",
     "text": [
      "{'a': 400, 'b': 300, 'c': 300, 'd': 400}\n"
     ]
    }
   ],
   "source": [
    "\n",
    "dict1 = {'a': 100, 'b': 200, 'c': 300}\n",
    "dict2 = {'a': 300, 'b': 100, 'd': 400}\n",
    "dict3 = {}\n",
    "for val in dict1:\n",
    "    if val in dict2:\n",
    "        dict3[val] = (dict1[val]+ dict2[val])\n",
    "    else:\n",
    "        dict3[val] = dict1[val]\n",
    "for val in dict2:\n",
    "    if val in dict3:\n",
    "        continue\n",
    "    else:\n",
    "        dict3[val] = dict2[val]\n",
    "\n",
    "\n",
    "\n",
    "\n",
    "print(dict3)"
   ]
  },
  {
   "cell_type": "markdown",
   "id": "677e0e82",
   "metadata": {},
   "source": [
    "### Exercise 5: Group words by their first letter using a dictionary.\n",
    "\n"
   ]
  },
  {
   "cell_type": "code",
   "execution_count": 7,
   "id": "acc111b8",
   "metadata": {},
   "outputs": [
    {
     "name": "stdout",
     "output_type": "stream",
     "text": [
      "{'a': ['apple', 'apricot', 'avocado'], 'b': ['banana', 'blueberry'], 'c': ['cherry']}\n"
     ]
    }
   ],
   "source": [
    "words = [\"apple\", \"banana\", \"cherry\", \"apricot\", \"blueberry\", \"avocado\"]\n",
    "word_dict = {}\n",
    "for word in words:\n",
    "    letter = word[0]\n",
    "    if letter in word_dict:\n",
    "        word_dict[letter].append(word)\n",
    "    else:\n",
    "        word_dict[letter] = [word]\n",
    "\n",
    "print(word_dict)"
   ]
  },
  {
   "cell_type": "markdown",
   "id": "c36aa4fe",
   "metadata": {},
   "source": [
    "## \n",
    "> \"OR\"\n"
   ]
  },
  {
   "cell_type": "code",
   "execution_count": null,
   "id": "8c144238",
   "metadata": {},
   "outputs": [],
   "source": [
    "from collections import defaultdict\n",
    "\n",
    "words = [\"apple\", \"banana\", \"cherry\", \"apricot\", \"blueberry\", \"avocado\"]\n",
    "word_dict = defaultdict(list)\n",
    "\n",
    "for word in words:\n",
    "    letter = word[0]\n",
    "    word_dict[letter].append(word)\n",
    "\n",
    "print(dict(word_dict))\n"
   ]
  }
 ],
 "metadata": {
  "kernelspec": {
   "display_name": "learning",
   "language": "python",
   "name": "python3"
  },
  "language_info": {
   "codemirror_mode": {
    "name": "ipython",
    "version": 3
   },
   "file_extension": ".py",
   "mimetype": "text/x-python",
   "name": "python",
   "nbconvert_exporter": "python",
   "pygments_lexer": "ipython3",
   "version": "3.10.17"
  }
 },
 "nbformat": 4,
 "nbformat_minor": 5
}
