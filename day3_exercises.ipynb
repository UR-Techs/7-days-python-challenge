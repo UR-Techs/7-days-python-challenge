{
 "cells": [
  {
   "cell_type": "markdown",
   "id": "bd1b0463",
   "metadata": {},
   "source": [
    "# 📘  Day 2 – Python + DSA Exercises\n",
    "## Exercise 1: Reverse Words in a Sentence\n",
    "### Problem:\n",
    "Write a function that takes a sentence and returns it with the words reversed.\n"
   ]
  },
  {
   "cell_type": "code",
   "execution_count": null,
   "id": "841d8963",
   "metadata": {},
   "outputs": [
    {
     "name": "stdout",
     "output_type": "stream",
     "text": [
      "reversed_string :  powerful is Python\n",
      "split_string :  ['Python', 'is', 'powerful']\n"
     ]
    }
   ],
   "source": [
    "input_string = \"Python is powerful\"\n",
    "split_string = input_string.split()\n",
    "reversed_string = \" \".join(split_string[::-1])\n",
    "print(\"reversed_string : \", reversed_string) \n"
   ]
  },
  {
   "cell_type": "markdown",
   "id": "f5624b13",
   "metadata": {},
   "source": [
    "## Exercise 2: Most Frequent Character (excluding spaces)\n",
    "### Problem:\n",
    "Count the frequency of characters in a string and return the one with the highest frequency.\n",
    "        \n",
    "        Hint: You can use a dictionary or collections.Counter"
   ]
  },
  {
   "cell_type": "code",
   "execution_count": null,
   "id": "bb235a55",
   "metadata": {},
   "outputs": [
    {
     "name": "stdout",
     "output_type": "stream",
     "text": [
      "l\n"
     ]
    }
   ],
   "source": [
    "\n",
    "def find_frequency(input_string): \n",
    "    \n",
    "    frequency_dict = {}\n",
    "\n",
    "    for char in input_string:\n",
    "        if char != \" \":\n",
    "            if char in frequency_dict:\n",
    "                frequency_dict[char] += 1\n",
    "            else:\n",
    "                frequency_dict[char] = 1\n",
    "\n",
    "    max_char_frequency = max(frequency_dict, key=frequency_dict.get)           \n",
    "    return max_char_frequency\n",
    "\n",
    "input_string = \"hello world\"\n",
    "\n",
    "print(find_frequency(input_string))            \n"
   ]
  },
  {
   "cell_type": "markdown",
   "id": "d687f8ee",
   "metadata": {},
   "source": [
    "## Exercise 3: Check if Two Strings are Anagrams\n",
    "### Problem:\n",
    "Write a function that checks if two strings are anagrams (same letters, different order).\n",
    "\n",
    "        Case-insensitive, ignore spaces.\n",
    "\n"
   ]
  },
  {
   "cell_type": "code",
   "execution_count": null,
   "id": "f65c9a60",
   "metadata": {},
   "outputs": [],
   "source": [
    "input_strings = \"listen\", \"silent\"\n",
    "#Output: True\n"
   ]
  }
 ],
 "metadata": {
  "kernelspec": {
   "display_name": "learning",
   "language": "python",
   "name": "python3"
  },
  "language_info": {
   "codemirror_mode": {
    "name": "ipython",
    "version": 3
   },
   "file_extension": ".py",
   "mimetype": "text/x-python",
   "name": "python",
   "nbconvert_exporter": "python",
   "pygments_lexer": "ipython3",
   "version": "3.10.17"
  }
 },
 "nbformat": 4,
 "nbformat_minor": 5
}
