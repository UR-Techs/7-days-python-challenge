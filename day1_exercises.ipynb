{
 "cells": [
  {
   "cell_type": "markdown",
   "id": "539cfd7c",
   "metadata": {},
   "source": [
    "# 📘  Day 1 – Python + DSA Exercises\n",
    "\n",
    "## Python Exercise 1: Convert List of Tuples to Dictionary\n",
    "### Problem:\n",
    "Given a list of tuples, convert it into a dictionary.\n"
   ]
  },
  {
   "cell_type": "code",
   "execution_count": 1,
   "id": "4ddeb69d",
   "metadata": {},
   "outputs": [
    {
     "name": "stdout",
     "output_type": "stream",
     "text": [
      "{'a': 1, 'b': 2, 'c': 3}\n"
     ]
    }
   ],
   "source": [
    "pairs = [('a', 1), ('b', 2), ('c', 3)] \n",
    "\n",
    "def convert_to_dict(pairs):\n",
    "    dictionary_pair = dict(pairs)\n",
    "    return dictionary_pair\n",
    "\n",
    "\n",
    "print(convert_to_dict(pairs))"
   ]
  },
  {
   "cell_type": "markdown",
   "id": "c808d65c",
   "metadata": {},
   "source": [
    "## Python Exercise 2: Dictionary Comprehension – Square Map\n",
    "### Problem:\n",
    "Create a dictionary that maps each number from 1 to 5 to its square."
   ]
  },
  {
   "cell_type": "code",
   "execution_count": 2,
   "id": "2c914605",
   "metadata": {},
   "outputs": [
    {
     "name": "stdout",
     "output_type": "stream",
     "text": [
      "{1: 1, 2: 4, 3: 9, 4: 16, 5: 25}\n"
     ]
    }
   ],
   "source": [
    "def map_num():\n",
    "    square = {}\n",
    "    square = {num: num ** 2 for num in range(1,6)}\n",
    "    return square\n",
    "\n",
    "print(map_num())\n"
   ]
  },
  {
   "cell_type": "markdown",
   "id": "cb99afb7",
   "metadata": {},
   "source": [
    "## DSA Exercise 1: Two Sum (Two-pointer Approach)\n",
    "### Problem:\n",
    "Given a sorted array of integers, return the 1-based indices of the two numbers that add up to a target value."
   ]
  },
  {
   "cell_type": "code",
   "execution_count": 3,
   "id": "745d4698",
   "metadata": {},
   "outputs": [
    {
     "name": "stdout",
     "output_type": "stream",
     "text": [
      "(1, 2)\n"
     ]
    }
   ],
   "source": [
    "nums = [2, 7, 11, 15]\n",
    "target = 9    \n",
    "\n",
    "def two_sum(nums, target):\n",
    "    left = 0\n",
    "    right = len(nums) - 1\n",
    "\n",
    "    while left < right:\n",
    "        temp_sum = nums[left] + nums[right]\n",
    "        if temp_sum > target:\n",
    "            right -= 1\n",
    "\n",
    "        elif temp_sum < target:\n",
    "            left += 1\n",
    "        \n",
    "        else:\n",
    "            ans1 = left+1\n",
    "            ans2 = right+1\n",
    "            return ans1, ans2\n",
    "\n",
    "\n",
    "    \n",
    "\n",
    "print(two_sum(nums, target))\n"
   ]
  },
  {
   "cell_type": "markdown",
   "id": "1ad93ac2",
   "metadata": {},
   "source": [
    "## DSA Exercise 2: Move Zeroes to End\n",
    "### Problem:\n",
    "Given an array, move all 0's to the end while maintaining the relative order of the non-zero elements. Do it in-place."
   ]
  },
  {
   "cell_type": "code",
   "execution_count": 4,
   "id": "32703d9f",
   "metadata": {},
   "outputs": [
    {
     "name": "stdout",
     "output_type": "stream",
     "text": [
      "[1, 3, 12, 0, 0]\n"
     ]
    }
   ],
   "source": [
    "def move_zeroes(nums):\n",
    "    last_non_zero = 0  # pointer for where to place the next non-zero element\n",
    "\n",
    "    for i in range(len(nums)):\n",
    "        if nums[i] != 0:\n",
    "            nums[last_non_zero], nums[i] = nums[i], nums[last_non_zero]\n",
    "            last_non_zero += 1\n",
    "\n",
    "nums = [0, 1, 0, 3, 12]\n",
    "move_zeroes(nums)\n",
    "print(nums)\n"
   ]
  }
 ],
 "metadata": {
  "kernelspec": {
   "display_name": "learning",
   "language": "python",
   "name": "python3"
  },
  "language_info": {
   "codemirror_mode": {
    "name": "ipython",
    "version": 3
   },
   "file_extension": ".py",
   "mimetype": "text/x-python",
   "name": "python",
   "nbconvert_exporter": "python",
   "pygments_lexer": "ipython3",
   "version": "3.10.17"
  }
 },
 "nbformat": 4,
 "nbformat_minor": 5
}
