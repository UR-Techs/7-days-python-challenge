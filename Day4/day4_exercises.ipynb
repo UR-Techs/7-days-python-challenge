{
 "cells": [
  {
   "cell_type": "markdown",
   "id": "f439bebc",
   "metadata": {},
   "source": [
    "# 📘  Day 4 – Python + DSA Exercises\n",
    "## Exercise 1: Find the Missing Number\n",
    "### Problem:\n",
    "You’re given a list of n-1 integers in the range 1 to n. Find the missing number.\n",
    "\n",
    "        Use a mathematical sum method or set difference.\n",
    "\n",
    "\n"
   ]
  },
  {
   "cell_type": "code",
   "execution_count": 1,
   "id": "04d8a5c3",
   "metadata": {},
   "outputs": [
    {
     "name": "stdout",
     "output_type": "stream",
     "text": [
      "3\n"
     ]
    }
   ],
   "source": [
    "input_value = [1, 2, 4, 5]\n",
    "n = len(input_value)+1\n",
    "current_sum = sum(input_value)\n",
    "total_sum = n* (n+1) // 2\n",
    "#Output: 3\n",
    "missing_num = total_sum - current_sum \n",
    "print(missing_num)\n",
    "\n"
   ]
  },
  {
   "cell_type": "markdown",
   "id": "992858e8",
   "metadata": {},
   "source": [
    "## Exercise 2: Count Word Occurrences in a Sentence\n",
    "### Problem:\n",
    "Write a function that counts how many times each word appears in a sentence (case-insensitive).\n"
   ]
  },
  {
   "cell_type": "code",
   "execution_count": 2,
   "id": "c780cc0e",
   "metadata": {},
   "outputs": [
    {
     "name": "stdout",
     "output_type": "stream",
     "text": [
      "{'python': 2, 'is': 2, 'great': 1, 'and': 1, 'easy': 1}\n"
     ]
    }
   ],
   "source": [
    "input_value = \"Python is great and python is easy\"\n",
    "#Output: {'python': 2, 'is': 2, 'great': 1, 'and': 1}\n",
    "split_value = input_value.lower().split() \n",
    "frequency = {}\n",
    "\n",
    "for word in split_value:\n",
    "\n",
    "    if word != \" \":\n",
    "        if word in frequency:\n",
    "            frequency[word] += 1\n",
    "        else:\n",
    "            frequency[word] = 1\n",
    "\n",
    "print(frequency)\n"
   ]
  },
  {
   "cell_type": "markdown",
   "id": "4eed09c4",
   "metadata": {},
   "source": [
    "## Exercise 3: Check if Two Lists Have Common Elements\n",
    "### Problem:\n",
    "Write a function to check if two lists have at least one element in common. Return True/False.\n",
    "\n",
    "        Use set intersection for an efficient solution.\n",
    "        \n"
   ]
  },
  {
   "cell_type": "code",
   "execution_count": 3,
   "id": "24cf4e1e",
   "metadata": {},
   "outputs": [
    {
     "name": "stdout",
     "output_type": "stream",
     "text": [
      "True\n"
     ]
    }
   ],
   "source": [
    "list1 = [1, 2, 3]\n",
    "list2 = [4, 5, 3]\n",
    "print(bool(set(list1) & set(list2)))"
   ]
  }
 ],
 "metadata": {
  "kernelspec": {
   "display_name": "learning",
   "language": "python",
   "name": "python3"
  },
  "language_info": {
   "codemirror_mode": {
    "name": "ipython",
    "version": 3
   },
   "file_extension": ".py",
   "mimetype": "text/x-python",
   "name": "python",
   "nbconvert_exporter": "python",
   "pygments_lexer": "ipython3",
   "version": "3.10.17"
  }
 },
 "nbformat": 4,
 "nbformat_minor": 5
}
