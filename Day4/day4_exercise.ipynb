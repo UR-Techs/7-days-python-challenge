{
 "cells": [
  {
   "cell_type": "markdown",
   "id": "95675695",
   "metadata": {},
   "source": [
    "# 📘  Day 4 – Python + DSA Exercises\n",
    "## Exercise 1: Find the Missing Number\n",
    "### Problem:\n",
    "You’re given a list of n-1 integers in the range 1 to n. Find the missing number.\n",
    "\n",
    "        Use a mathematical sum method or set difference.\n",
    "\n",
    "\n"
   ]
  },
  {
   "cell_type": "code",
   "execution_count": 2,
   "id": "9d2e43b9",
   "metadata": {},
   "outputs": [
    {
     "name": "stdout",
     "output_type": "stream",
     "text": [
      "[1, 2, 4, 5]\n"
     ]
    }
   ],
   "source": [
    "input_value = [1, 2, 4, 5]\n",
    "#Output: 3\n",
    "print(input_value)\n"
   ]
  },
  {
   "cell_type": "markdown",
   "id": "61b92de1",
   "metadata": {},
   "source": [
    "## Exercise 2: Count Word Occurrences in a Sentence\n",
    "### Problem:\n",
    "Write a function that counts how many times each word appears in a sentence (case-insensitive).\n"
   ]
  },
  {
   "cell_type": "code",
   "execution_count": null,
   "id": "9ceee33e",
   "metadata": {},
   "outputs": [
    {
     "name": "stdout",
     "output_type": "stream",
     "text": [
      "{'python': 2, 'is': 2, 'great': 1, 'and': 1, 'easy': 1}\n"
     ]
    }
   ],
   "source": [
    "input_value = \"Python is great and python is easy\"\n",
    "#Output: {'python': 2, 'is': 2, 'great': 1, 'and': 1}\n",
    "split_value = input_value.lower().split() \n",
    "frequency = {}\n",
    "\n",
    "for word in split_value:\n",
    "\n",
    "    if word != \" \":\n",
    "        if word in frequency:\n",
    "            frequency[word] += 1\n",
    "        else:\n",
    "            frequency[word] = 1\n",
    "\n",
    "print(frequency)\n"
   ]
  },
  {
   "cell_type": "markdown",
   "id": "5e096f9e",
   "metadata": {},
   "source": [
    "## Exercise 3: Check if Two Lists Have Common Elements\n",
    "### Problem:\n",
    "Write a function to check if two lists have at least one element in common. Return True/False.\n",
    "\n",
    "        Use set intersection for an efficient solution.\n",
    "        \n"
   ]
  },
  {
   "cell_type": "code",
   "execution_count": null,
   "id": "188132be",
   "metadata": {},
   "outputs": [
    {
     "name": "stdout",
     "output_type": "stream",
     "text": [
      "([1, 2, 3], [4, 5, 3])\n"
     ]
    }
   ],
   "source": [
    "input_values = [1, 2, 3], [4, 5, 3]\n",
    "#Output: True\n",
    "print(input_values)"
   ]
  }
 ],
 "metadata": {
  "kernelspec": {
   "display_name": "learning",
   "language": "python",
   "name": "python3"
  },
  "language_info": {
   "codemirror_mode": {
    "name": "ipython",
    "version": 3
   },
   "file_extension": ".py",
   "mimetype": "text/x-python",
   "name": "python",
   "nbconvert_exporter": "python",
   "pygments_lexer": "ipython3",
   "version": "3.10.17"
  }
 },
 "nbformat": 4,
 "nbformat_minor": 5
}
