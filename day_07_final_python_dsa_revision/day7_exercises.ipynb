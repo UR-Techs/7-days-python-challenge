{
 "cells": [
  {
   "cell_type": "markdown",
   "id": "a7cc2453",
   "metadata": {},
   "source": [
    "## Exercise 1: Word Length Filter\n",
    "Write a function that takes a list of words and returns only those words that are longer than 4 characters."
   ]
  },
  {
   "cell_type": "code",
   "execution_count": 1,
   "id": "f1e70d98",
   "metadata": {},
   "outputs": [
    {
     "name": "stdout",
     "output_type": "stream",
     "text": [
      "['apple', 'banana', 'grape']\n"
     ]
    }
   ],
   "source": [
    "def filter_long_words(words):\n",
    "    return [word for word in words if len(word) > 4]\n",
    "\n",
    "sample_input = [\"cat\", \"apple\", \"banana\", \"pie\", \"grape\"]\n",
    "print(filter_long_words(sample_input))"
   ]
  },
  {
   "cell_type": "markdown",
   "id": "2d72f082",
   "metadata": {},
   "source": [
    "## Exercise 2: Dictionary Frequency Sort (Descending)\n",
    "Use dictionary sorting with lambda to sort key-value pairs in descending order of frequency."
   ]
  },
  {
   "cell_type": "code",
   "execution_count": 7,
   "id": "8a5356c4",
   "metadata": {},
   "outputs": [
    {
     "name": "stdout",
     "output_type": "stream",
     "text": [
      "[('b', 5), ('a', 3), ('c', 1)]\n"
     ]
    }
   ],
   "source": [
    "freq = {'a': 3, 'b': 5, 'c': 1}\n",
    "sorted_descending = sorted(freq.items(), key=lambda x: x[1], reverse=True)\n",
    "print(sorted_descending)"
   ]
  },
  {
   "cell_type": "markdown",
   "id": "7cd5d462",
   "metadata": {},
   "source": [
    "## Exercise 3: Conditional Transformation\n",
    "Write a function to square even numbers and cube odd numbers from a given list."
   ]
  },
  {
   "cell_type": "code",
   "execution_count": 9,
   "id": "f294c0c0",
   "metadata": {},
   "outputs": [
    {
     "name": "stdout",
     "output_type": "stream",
     "text": [
      "[1, 4, 27, 16, 125]\n"
     ]
    }
   ],
   "source": [
    "def transform_numbers(nums):\n",
    "    return[ num *num if num % 2 == 0 else num*num*num for num in nums]\n",
    "\n",
    "print(transform_numbers([1, 2, 3, 4,5]))"
   ]
  },
  {
   "cell_type": "markdown",
   "id": "0270682c",
   "metadata": {},
   "source": [
    "## Exercise 4: Merge & Deduplicate Sorted Lists\n",
    "Given two sorted lists, merge and remove duplicates, returning a sorted result."
   ]
  },
  {
   "cell_type": "code",
   "execution_count": 12,
   "id": "c2132e40",
   "metadata": {},
   "outputs": [
    {
     "name": "stdout",
     "output_type": "stream",
     "text": [
      "[1, 2, 3, 4, 5, 6]\n"
     ]
    }
   ],
   "source": [
    "list1 = [1, 2, 3, 4]\n",
    "list2 = [3, 4, 5, 6]\n",
    "merged = sorted(set(list1) | set(list2))\n",
    "print(list(merged))"
   ]
  }
 ],
 "metadata": {
  "kernelspec": {
   "display_name": "learning",
   "language": "python",
   "name": "python3"
  },
  "language_info": {
   "codemirror_mode": {
    "name": "ipython",
    "version": 3
   },
   "file_extension": ".py",
   "mimetype": "text/x-python",
   "name": "python",
   "nbconvert_exporter": "python",
   "pygments_lexer": "ipython3",
   "version": "3.10.17"
  }
 },
 "nbformat": 4,
 "nbformat_minor": 5
}
