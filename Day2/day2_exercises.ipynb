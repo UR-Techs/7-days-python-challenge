{
 "cells": [
  {
   "cell_type": "markdown",
   "id": "e0bed9c5",
   "metadata": {},
   "source": [
    "## Exercise 1: Use enumerate() to track index while looping\n",
    "### Problem:\n",
    "Print each item in a list along with its index.\n",
    "\n"
   ]
  },
  {
   "cell_type": "code",
   "execution_count": 2,
   "id": "aa75b2b4",
   "metadata": {},
   "outputs": [
    {
     "name": "stdout",
     "output_type": "stream",
     "text": [
      "0 : apple\n",
      "1 : banana\n",
      "2 : cherry\n"
     ]
    }
   ],
   "source": [
    "fruits = [\"apple\", \"banana\", \"cherry\"]\n",
    "\n",
    "for index, fruit in enumerate(fruits):\n",
    "    print(f\"{index} : {fruit}\")"
   ]
  },
  {
   "cell_type": "markdown",
   "id": "42f353ef",
   "metadata": {},
   "source": [
    "## Exercise 2: Combine two lists using zip()\n",
    "### Problem:\n",
    "Merge two lists into a dictionary using zip().\n",
    "\n"
   ]
  },
  {
   "cell_type": "code",
   "execution_count": 20,
   "id": "65ab25ab",
   "metadata": {},
   "outputs": [
    {
     "name": "stdout",
     "output_type": "stream",
     "text": [
      "{'name': 'Alice', 'age': 25, 'country': 'Canada'}\n"
     ]
    }
   ],
   "source": [
    "\n",
    "keys = ['name', 'age', 'country']\n",
    "values = ['Alice', 25, 'Canada']\n",
    "\n",
    "bio_data = dict(zip(keys,values))\n",
    "print(bio_data)\n",
    "\n",
    "# Output:\n",
    "# {'name': 'Alice', 'age': 25, 'country': 'Canada'}"
   ]
  },
  {
   "cell_type": "markdown",
   "id": "8cac5dab",
   "metadata": {},
   "source": [
    "## Exercise 3: Use list comprehension to filter even numbers\n",
    "### Problem:\n",
    "Return a list of squares of even numbers from 1 to 10.\n",
    "\n"
   ]
  },
  {
   "cell_type": "code",
   "execution_count": null,
   "id": "8727fd1a",
   "metadata": {},
   "outputs": [
    {
     "name": "stdout",
     "output_type": "stream",
     "text": [
      "[4, 16, 36, 64, 100]\n"
     ]
    }
   ],
   "source": [
    "num_list = list(range(1, 11))\n",
    "num_list\n",
    "\n",
    "squared_even_numbers = [num*num for num in num_list if num%2 == 0]\n",
    "print(squared_even_numbers)\n"
   ]
  }
 ],
 "metadata": {
  "kernelspec": {
   "display_name": "learning",
   "language": "python",
   "name": "python3"
  },
  "language_info": {
   "codemirror_mode": {
    "name": "ipython",
    "version": 3
   },
   "file_extension": ".py",
   "mimetype": "text/x-python",
   "name": "python",
   "nbconvert_exporter": "python",
   "pygments_lexer": "ipython3",
   "version": "3.10.17"
  }
 },
 "nbformat": 4,
 "nbformat_minor": 5
}
