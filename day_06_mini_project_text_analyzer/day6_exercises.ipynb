{
 "cells": [
  {
   "cell_type": "markdown",
   "id": "ffc17ceb",
   "metadata": {},
   "source": [
    "## Day 6 Task: Build a Mini Project\n",
    "### build a \"Text Analyzer\" CLI app using everything you’ve learned so far.\n",
    "This project will:\n",
    "1. Take a paragraph as input\n",
    "2. Count word frequencies\n",
    "3. Show unique words\n",
    "4. Sort words by frequency\n",
    "5. Find the most common word\n",
    "6. (Bonus) Group words by their starting letters"
   ]
  },
  {
   "cell_type": "code",
   "execution_count": null,
   "id": "7d628045",
   "metadata": {},
   "outputs": [
    {
     "name": "stdout",
     "output_type": "stream",
     "text": [
      "g\n",
      "\n",
      "--- Analysis ---\n",
      "Frequencies: {'this': 1, 'is': 2, 'python.': 1, 'python': 1, 'great': 1}\n",
      "Unique Words: ['this', 'python.', 'python', 'great']\n",
      "Sorted by Frequency: [('this', 1), ('python.', 1), ('python', 1), ('great', 1), ('is', 2)]\n",
      "Most Common Word: is\n",
      "Grouped by First Letter: {'t': ['this'], 'i': ['is', 'is'], 'p': ['python.', 'python'], 'g': ['great']}\n"
     ]
    }
   ],
   "source": [
    "# Text Analyzer\n",
    "\n",
    "\n",
    "\n",
    "\n",
    "def analyze_text(text):\n",
    "    # Step 1: Clean and split the text\n",
    "    split_text = text.lower().split()\n",
    "    \n",
    "    # Step 2: Frequency count\n",
    "    freq = {}\n",
    "    for word in split_text:\n",
    "        if word != \" \":\n",
    "            if word in freq:\n",
    "                freq[word] += 1\n",
    "            else:\n",
    "                freq[word] = 1\n",
    "\n",
    "    \n",
    "    # Step 3: Unique words\n",
    "    unique_words = []\n",
    "    for word in freq:\n",
    "        if freq[word] == 1:\n",
    "            unique_words.append(word)\n",
    "\n",
    "\n",
    "    # Step 4: Sort by frequency\n",
    "    sorted_freq = sorted(freq.items(), key=lambda item : item[1])\n",
    "\n",
    "\n",
    "    # Step 5: Most common word\n",
    "    most_common = max(freq, key=freq.get)       \n",
    "\n",
    "    # Step 6: Group by first letter\n",
    "    grouped = {}\n",
    "    for word in split_text:\n",
    "        first_letter = word[0]\n",
    "        if first_letter in grouped:\n",
    "            grouped[first_letter].append(word)\n",
    "        else:\n",
    "            grouped[first_letter] = [word]\n",
    "\n",
    "    \n",
    "\n",
    "    # Final Output\n",
    "    print(\"\\n--- Analysis ---\")\n",
    "    print(\"Frequencies:\", freq)\n",
    "    print(\"Unique Words:\", unique_words)\n",
    "    print(\"Sorted by Frequency:\", sorted_freq)\n",
    "    print(\"Most Common Word:\", most_common)\n",
    "    print(\"Grouped by First Letter:\", grouped)\n",
    "\n",
    "# Example Run\n",
    "text_input = input(\"Enter a paragraph: \")\n",
    "analyze_text(text_input)\n"
   ]
  }
 ],
 "metadata": {
  "kernelspec": {
   "display_name": "Python 3",
   "language": "python",
   "name": "python3"
  },
  "language_info": {
   "codemirror_mode": {
    "name": "ipython",
    "version": 3
   },
   "file_extension": ".py",
   "mimetype": "text/x-python",
   "name": "python",
   "nbconvert_exporter": "python",
   "pygments_lexer": "ipython3",
   "version": "3.12.9"
  }
 },
 "nbformat": 4,
 "nbformat_minor": 5
}
